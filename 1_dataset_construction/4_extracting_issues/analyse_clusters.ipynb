{
 "cells": [
  {
   "cell_type": "code",
   "execution_count": 1,
   "metadata": {},
   "outputs": [],
   "source": [
    "import pandas as pd"
   ]
  },
  {
   "cell_type": "code",
   "execution_count": 17,
   "metadata": {},
   "outputs": [
    {
     "name": "stdout",
     "output_type": "stream",
     "text": [
      "Loaded config_1: 396 clusters\n",
      "Loaded config_2: 388 clusters\n",
      "Loaded config_3: 129 clusters\n",
      "Loaded config_4: 439 clusters\n",
      "Loaded config_5: 401 clusters\n",
      "Loaded config_6: 129 clusters\n",
      "\n",
      "Loaded config_1: 32134 prompts\n",
      "Loaded config_2: 32134 prompts\n",
      "Loaded config_3: 32134 prompts\n",
      "Loaded config_4: 32134 prompts\n",
      "Loaded config_5: 32134 prompts\n",
      "Loaded config_6: 32134 prompts\n"
     ]
    }
   ],
   "source": [
    "CLUSTER_FOLDER = \"../data/clusters/\"\n",
    "CLUSTER_CONFIGS = [f\"config_{i}\" for i in range(1, 7)]\n",
    "\n",
    "cluster_dict = {}\n",
    "\n",
    "for config in CLUSTER_CONFIGS:\n",
    "    cluster_dict[config] = pd.read_csv(CLUSTER_FOLDER + config + \"/all_clean_filtered_clusteroverview_named.csv\")\n",
    "    print(f\"Loaded {config}: {len(cluster_dict[config])} clusters\")\n",
    "print()\n",
    "\n",
    "prompts_dict = {}\n",
    "for config in CLUSTER_CONFIGS:\n",
    "    prompts_dict[config] = pd.read_csv(CLUSTER_FOLDER + config + \"/all_clean_filtered_clusterdetail.csv\")\n",
    "    print(f\"Loaded {config}: {len(prompts_dict[config])} prompts\")"
   ]
  },
  {
   "cell_type": "markdown",
   "metadata": {},
   "source": [
    "### Analyse clusters"
   ]
  },
  {
   "cell_type": "code",
   "execution_count": 5,
   "metadata": {},
   "outputs": [
    {
     "name": "stdout",
     "output_type": "stream",
     "text": [
      "Loaded config_1: 396 rows\n",
      "Loaded config_2: 388 rows\n",
      "Loaded config_3: 129 rows\n",
      "Loaded config_4: 439 rows\n",
      "Loaded config_5: 401 rows\n",
      "Loaded config_6: 129 rows\n"
     ]
    }
   ],
   "source": [
    "cluster_dict = {}\n",
    "\n",
    "for config in CLUSTER_CONFIGS:\n",
    "    cluster_dict[config] = pd.read_csv(CLUSTER_FOLDER + config + \"/all_clean_filtered_clusteroverview_named.csv\")\n",
    "    print(f\"Loaded {config}: {len(cluster_dict[config])} clusters\")"
   ]
  },
  {
   "cell_type": "code",
   "execution_count": 15,
   "metadata": {},
   "outputs": [
    {
     "name": "stdout",
     "output_type": "stream",
     "text": [
      "config_1:\t396 clusters\n",
      "dominated_by\n",
      "NaN         266\n",
      "wildchat     76\n",
      "lmsys        51\n",
      "prism         2\n",
      "hhonline      1\n",
      "Name: count, dtype: int64\n",
      "\n",
      "config_2:\t388 clusters\n",
      "dominated_by\n",
      "NaN         262\n",
      "wildchat     73\n",
      "lmsys        50\n",
      "prism         2\n",
      "hhonline      1\n",
      "Name: count, dtype: int64\n",
      "\n",
      "config_3:\t129 clusters\n",
      "dominated_by\n",
      "NaN         68\n",
      "wildchat    38\n",
      "lmsys       22\n",
      "hhonline     1\n",
      "Name: count, dtype: int64\n",
      "\n",
      "config_4:\t439 clusters\n",
      "dominated_by\n",
      "NaN         294\n",
      "wildchat     83\n",
      "lmsys        56\n",
      "prism         5\n",
      "hhonline      1\n",
      "Name: count, dtype: int64\n",
      "\n",
      "config_5:\t401 clusters\n",
      "dominated_by\n",
      "NaN         270\n",
      "wildchat     78\n",
      "lmsys        50\n",
      "prism         2\n",
      "hhonline      1\n",
      "Name: count, dtype: int64\n",
      "\n",
      "config_6:\t129 clusters\n",
      "dominated_by\n",
      "NaN         68\n",
      "wildchat    38\n",
      "lmsys       22\n",
      "hhonline     1\n",
      "Name: count, dtype: int64\n",
      "\n"
     ]
    }
   ],
   "source": [
    "# for each cluster_df, what proportion of clusters is dominated by one source?\n",
    "\n",
    "for config in cluster_dict:\n",
    "    print(f\"{config}:\\t{len(cluster_dict[config])} clusters\")\n",
    "    print(cluster_dict[config].value_counts(\"dominated_by\", normalize=False, dropna=False))\n",
    "    print()"
   ]
  },
  {
   "cell_type": "code",
   "execution_count": 18,
   "metadata": {},
   "outputs": [],
   "source": [
    "# merge gpt_desciption onto prompts dataframes\n",
    "\n",
    "for config in CLUSTER_CONFIGS:\n",
    "    prompts_dict[config] = prompts_dict[config].merge(cluster_dict[config][[\"cluster_id\", \"cluster_size\", \"gpt_description\"]], on=\"cluster_id\", how=\"left\")\n",
    "    # drop redundant columns\n",
    "    prompts_dict[config].drop(columns=[\"umap_embedding\", \"distance_to_centroid\"], inplace=True)\n",
    "    # sort by cluster_id, then cluster_size\n",
    "    prompts_dict[config].sort_values(by=[\"cluster_id\", \"cluster_size\"], inplace=True)\n",
    "\n",
    "    # save merged dataframes\n",
    "    prompts_dict[config].to_csv(CLUSTER_FOLDER + config + \"/all_clean_filtered_clusterdetail_named.csv\", index=False)"
   ]
  }
 ],
 "metadata": {
  "kernelspec": {
   "display_name": "realpoliticalprompts",
   "language": "python",
   "name": "realpoliticalprompts"
  },
  "language_info": {
   "codemirror_mode": {
    "name": "ipython",
    "version": 3
   },
   "file_extension": ".py",
   "mimetype": "text/x-python",
   "name": "python",
   "nbconvert_exporter": "python",
   "pygments_lexer": "ipython3",
   "version": "3.11.3"
  }
 },
 "nbformat": 4,
 "nbformat_minor": 2
}

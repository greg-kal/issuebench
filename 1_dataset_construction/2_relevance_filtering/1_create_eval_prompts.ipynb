{
 "cells": [
  {
   "cell_type": "code",
   "execution_count": 1,
   "metadata": {},
   "outputs": [],
   "source": [
    "import pandas as pd"
   ]
  },
  {
   "cell_type": "code",
   "execution_count": 17,
   "metadata": {},
   "outputs": [],
   "source": [
    "# load the user_prompt data\n",
    "df = pd.read_csv(\"../data/filter_eval/relevance_160424_annotations.csv\")\n",
    "\n",
    "# load the prompt templates\n",
    "templates = pd.read_csv(\"../data/filter_eval/filter_prompt_templates_160424.csv\")\n",
    "\n",
    "def create_prompt(template, user_prompt):\n",
    "    \n",
    "    # remove linebreaks and tabs\n",
    "    user_prompt = user_prompt.replace(\"\\n\", \" \").replace(\"\\t\", \" \")\n",
    "\n",
    "    # collapse multiple spaces into one\n",
    "    user_prompt = \" \".join(user_prompt.split())\n",
    "\n",
    "    return template.format(user_prompt = user_prompt)\n",
    "\n",
    "df_dict = {}\n",
    "\n",
    "for i, row in templates.iterrows():\n",
    "    df_dict[row[\"id\"]] = df.copy()\n",
    "    df_dict[row[\"id\"]][\"eval_prompt\"] = df_dict[row[\"id\"]][\"user_prompt\"].apply(lambda x: create_prompt(row[\"prompt_template\"], x))\n"
   ]
  },
  {
   "cell_type": "code",
   "execution_count": 11,
   "metadata": {},
   "outputs": [],
   "source": [
    "for i in df_dict:\n",
    "    df_dict[i].to_csv(\"../data/filter_eval/relevance_160424_prompts_{}.csv\".format(i), index=False)"
   ]
  },
  {
   "cell_type": "code",
   "execution_count": 18,
   "metadata": {},
   "outputs": [],
   "source": [
    "# apply best prompt template to all clean samples\n",
    "\n",
    "all_clean_df = pd.read_csv(\"../data/clean/all_clean.csv\")\n",
    "all_clean_df[\"eval_prompt\"] = all_clean_df[\"user_prompt\"].apply(lambda x: create_prompt(templates.iloc[4][\"prompt_template\"], x))\n",
    "all_clean_df.to_csv(\"../data/clean/all_clean_prompts.csv\", index=False)"
   ]
  }
 ],
 "metadata": {
  "kernelspec": {
   "display_name": "realpoliticalprompts",
   "language": "python",
   "name": "realpoliticalprompts"
  },
  "language_info": {
   "codemirror_mode": {
    "name": "ipython",
    "version": 3
   },
   "file_extension": ".py",
   "mimetype": "text/x-python",
   "name": "python",
   "nbconvert_exporter": "python",
   "pygments_lexer": "ipython3",
   "version": "3.11.3"
  }
 },
 "nbformat": 4,
 "nbformat_minor": 2
}

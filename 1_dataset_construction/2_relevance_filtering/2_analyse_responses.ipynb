{
 "cells": [
  {
   "cell_type": "code",
   "execution_count": 78,
   "metadata": {},
   "outputs": [],
   "source": [
    "import pandas as pd\n",
    "import os\n",
    "\n",
    "from sklearn.metrics import classification_report\n"
   ]
  },
  {
   "cell_type": "markdown",
   "metadata": {},
   "source": [
    "### Analyse filter performance on annotated data"
   ]
  },
  {
   "cell_type": "code",
   "execution_count": 79,
   "metadata": {},
   "outputs": [
    {
     "name": "stdout",
     "output_type": "stream",
     "text": [
      "/Users/greg/Desktop/newFolderLLM/issuebench/1_dataset_construction/2_relevance_filtering\n"
     ]
    }
   ],
   "source": [
    "import os\n",
    "print(os.getcwd())\n"
   ]
  },
  {
   "cell_type": "code",
   "execution_count": 80,
   "metadata": {},
   "outputs": [],
   "source": [
    "annotations_df = pd.read_csv('/Users/greg/Desktop/newFolderLLM/issuebench/final_labeled_GK_CH/final_GK_CH_annotations.csv')"
   ]
  },
  {
   "cell_type": "code",
   "execution_count": 81,
   "metadata": {},
   "outputs": [],
   "source": [
    "results_dict = {}\n",
    "\n",
    "for file in os.listdir(\"/Users/greg/Desktop/newFolderLLM/issuebench/1_dataset_construction/2_relevance_filtering/\" \\\n",
    "\"eval_prompts/responsesKalman\"):\n",
    "    if \"completions\" in file:\n",
    "        results_dict[file.split(\"_\")[-1][:-4]] = pd.read_csv(\"/Users/greg/Desktop/newFolderLLM/issuebench/1_dataset_construction/2_relevance_filtering/\" \\\n",
    "\"eval_prompts/responsesKalman/\" + file)"
   ]
  },
  {
   "cell_type": "code",
   "execution_count": 82,
   "metadata": {},
   "outputs": [
    {
     "name": "stdout",
     "output_type": "stream",
     "text": [
      "templ-1\n",
      "eval_completion_parsed\n",
      "1    615\n",
      "0    385\n",
      "Name: count, dtype: int64\n",
      "\n",
      "templ-2\n",
      "eval_completion_parsed\n",
      "1    795\n",
      "0    205\n",
      "Name: count, dtype: int64\n",
      "\n",
      "templ-3\n",
      "eval_completion_parsed\n",
      "0    918\n",
      "1     82\n",
      "Name: count, dtype: int64\n",
      "\n",
      "templ-4\n",
      "eval_completion_parsed\n",
      "1    636\n",
      "0    364\n",
      "Name: count, dtype: int64\n",
      "\n",
      "templ-5\n",
      "eval_completion_parsed\n",
      "1    773\n",
      "0    227\n",
      "Name: count, dtype: int64\n",
      "\n"
     ]
    }
   ],
   "source": [
    "# parse the results\n",
    "\n",
    "def parse_completion(completion):\n",
    "    if \"yes\" in completion.lower():\n",
    "        return 1\n",
    "    elif \"no\" in completion.lower():\n",
    "        return 0\n",
    "    else:\n",
    "        return -1\n",
    "    \n",
    "for templ in sorted(results_dict):\n",
    "    results_dict[templ][\"eval_completion_parsed\"] = results_dict[templ][\"eval_completion\"].apply(parse_completion)\n",
    "    print(templ)\n",
    "    print(results_dict[templ][\"eval_completion_parsed\"].value_counts())\n",
    "    print()\n"
   ]
  },
  {
   "cell_type": "code",
   "execution_count": 91,
   "metadata": {},
   "outputs": [
    {
     "name": "stdout",
     "output_type": "stream",
     "text": [
      "Annotations columns: ['id', 'user_prompt', 'annot1_label', 'annot_1 notes', 'annot2_label', 'annot2_notes', 'disagreement', 'final_label']\n",
      "[\"'id'\", \"'user_prompt'\", \"'annot1_label'\", \"'annot_1 notes'\", \"'annot2_label'\", \"'annot2_notes'\", \"'disagreement'\", \"'final_label'\"]\n",
      "           id                                        user_prompt  \\\n",
      "0  prism-5917       why is euthanasia illegal in most countries?   \n",
      "1  prism-4994   What is the weather like today in London please?   \n",
      "2   prism-478  Why do criminal migrants keep living and makin...   \n",
      "3  prism-5914    In a family, what its the most important thing?   \n",
      "4  prism-3636  Tell me a funny story about a cupcake and a do...   \n",
      "\n",
      "    annot1_label  annot_1 notes   annot2_label  annot2_notes  disagreement  \\\n",
      "0   0 - clear no            NaN   0 - clear no           NaN         False   \n",
      "1   0 - clear no            NaN   0 - clear no           NaN         False   \n",
      "2  1 - clear yes            NaN  1 - clear yes           NaN         False   \n",
      "3   0 - clear no            NaN   0 - clear no           NaN         False   \n",
      "4   0 - clear no            NaN   0 - clear no           NaN         False   \n",
      "\n",
      "     final_label                                        eval_prompt  \\\n",
      "0   0 - clear no  Does the following text make any mention of pr...   \n",
      "1   0 - clear no  Does the following text make any mention of pr...   \n",
      "2  1 - clear yes  Does the following text make any mention of pr...   \n",
      "3   0 - clear no  Does the following text make any mention of pr...   \n",
      "4   0 - clear no  Does the following text make any mention of pr...   \n",
      "\n",
      "                                     eval_completion      model  \\\n",
      "0  The text you provided does not directly addres...  llama2:7b   \n",
      "1                                                Yes  llama2:7b   \n",
      "2                                                Yes  llama2:7b   \n",
      "3                                                Yes  llama2:7b   \n",
      "4                                                Yes  llama2:7b   \n",
      "\n",
      "   eval_completion_parsed  \n",
      "0                       0  \n",
      "1                       1  \n",
      "2                       1  \n",
      "3                       1  \n",
      "4                       1  \n",
      "           id                                        user_prompt  \\\n",
      "0  prism-5917       why is euthanasia illegal in most countries?   \n",
      "1  prism-4994   What is the weather like today in London please?   \n",
      "2   prism-478  Why do criminal migrants keep living and makin...   \n",
      "3  prism-5914    In a family, what its the most important thing?   \n",
      "4  prism-3636  Tell me a funny story about a cupcake and a do...   \n",
      "\n",
      "    annot1_label  annot_1 notes   annot2_label  annot2_notes  disagreement  \\\n",
      "0   0 - clear no            NaN   0 - clear no           NaN         False   \n",
      "1   0 - clear no            NaN   0 - clear no           NaN         False   \n",
      "2  1 - clear yes            NaN  1 - clear yes           NaN         False   \n",
      "3   0 - clear no            NaN   0 - clear no           NaN         False   \n",
      "4   0 - clear no            NaN   0 - clear no           NaN         False   \n",
      "\n",
      "     final_label                                        eval_prompt  \\\n",
      "0   0 - clear no  Is the following text in any way relevant or r...   \n",
      "1   0 - clear no  Is the following text in any way relevant or r...   \n",
      "2  1 - clear yes  Is the following text in any way relevant or r...   \n",
      "3   0 - clear no  Is the following text in any way relevant or r...   \n",
      "4   0 - clear no  Is the following text in any way relevant or r...   \n",
      "\n",
      "  eval_completion      model  eval_completion_parsed  \n",
      "0             Yes  llama2:7b                       1  \n",
      "1             Yes  llama2:7b                       1  \n",
      "2             Yes  llama2:7b                       1  \n",
      "3             Yes  llama2:7b                       1  \n",
      "4             Yes  llama2:7b                       1  \n",
      "           id                                        user_prompt  \\\n",
      "0  prism-5917       why is euthanasia illegal in most countries?   \n",
      "1  prism-4994   What is the weather like today in London please?   \n",
      "2   prism-478  Why do criminal migrants keep living and makin...   \n",
      "3  prism-5914    In a family, what its the most important thing?   \n",
      "4  prism-3636  Tell me a funny story about a cupcake and a do...   \n",
      "\n",
      "    annot1_label  annot_1 notes   annot2_label  annot2_notes  disagreement  \\\n",
      "0   0 - clear no            NaN   0 - clear no           NaN         False   \n",
      "1   0 - clear no            NaN   0 - clear no           NaN         False   \n",
      "2  1 - clear yes            NaN  1 - clear yes           NaN         False   \n",
      "3   0 - clear no            NaN   0 - clear no           NaN         False   \n",
      "4   0 - clear no            NaN   0 - clear no           NaN         False   \n",
      "\n",
      "     final_label                                        eval_prompt  \\\n",
      "0   0 - clear no  Text: \"why is euthanasia illegal in most count...   \n",
      "1   0 - clear no  Text: \"What is the weather like today in Londo...   \n",
      "2  1 - clear yes  Text: \"Why do criminal migrants keep living an...   \n",
      "3   0 - clear no  Text: \"In a family, what its the most importan...   \n",
      "4   0 - clear no  Text: \"Tell me a funny story about a cupcake a...   \n",
      "\n",
      "  eval_completion      model  eval_completion_parsed  \n",
      "0              No  llama2:7b                       0  \n",
      "1              No  llama2:7b                       0  \n",
      "2              No  llama2:7b                       0  \n",
      "3              No  llama2:7b                       0  \n",
      "4              No  llama2:7b                       0  \n",
      "           id                                        user_prompt  \\\n",
      "0  prism-5917       why is euthanasia illegal in most countries?   \n",
      "1  prism-4994   What is the weather like today in London please?   \n",
      "2   prism-478  Why do criminal migrants keep living and makin...   \n",
      "3  prism-5914    In a family, what its the most important thing?   \n",
      "4  prism-3636  Tell me a funny story about a cupcake and a do...   \n",
      "\n",
      "    annot1_label  annot_1 notes   annot2_label  annot2_notes  disagreement  \\\n",
      "0   0 - clear no            NaN   0 - clear no           NaN         False   \n",
      "1   0 - clear no            NaN   0 - clear no           NaN         False   \n",
      "2  1 - clear yes            NaN  1 - clear yes           NaN         False   \n",
      "3   0 - clear no            NaN   0 - clear no           NaN         False   \n",
      "4   0 - clear no            NaN   0 - clear no           NaN         False   \n",
      "\n",
      "     final_label                                        eval_prompt  \\\n",
      "0   0 - clear no  Does the folliwng text make reference in any w...   \n",
      "1   0 - clear no  Does the folliwng text make reference in any w...   \n",
      "2  1 - clear yes  Does the folliwng text make reference in any w...   \n",
      "3   0 - clear no  Does the folliwng text make reference in any w...   \n",
      "4   0 - clear no  Does the folliwng text make reference in any w...   \n",
      "\n",
      "  eval_completion      model  eval_completion_parsed  \n",
      "0              No  llama2:7b                       0  \n",
      "1              No  llama2:7b                       0  \n",
      "2              No  llama2:7b                       0  \n",
      "3             Yes  llama2:7b                       1  \n",
      "4             Yes  llama2:7b                       1  \n",
      "           id                                        user_prompt  \\\n",
      "0  prism-5917       why is euthanasia illegal in most countries?   \n",
      "1  prism-4994   What is the weather like today in London please?   \n",
      "2   prism-478  Why do criminal migrants keep living and makin...   \n",
      "3  prism-5914    In a family, what its the most important thing?   \n",
      "4  prism-3636  Tell me a funny story about a cupcake and a do...   \n",
      "\n",
      "    annot1_label  annot_1 notes   annot2_label  annot2_notes  disagreement  \\\n",
      "0   0 - clear no            NaN   0 - clear no           NaN         False   \n",
      "1   0 - clear no            NaN   0 - clear no           NaN         False   \n",
      "2  1 - clear yes            NaN  1 - clear yes           NaN         False   \n",
      "3   0 - clear no            NaN   0 - clear no           NaN         False   \n",
      "4   0 - clear no            NaN   0 - clear no           NaN         False   \n",
      "\n",
      "     final_label                                        eval_prompt  \\\n",
      "0   0 - clear no  Is the following text in any way relevant or r...   \n",
      "1   0 - clear no  Is the following text in any way relevant or r...   \n",
      "2  1 - clear yes  Is the following text in any way relevant or r...   \n",
      "3   0 - clear no  Is the following text in any way relevant or r...   \n",
      "4   0 - clear no  Is the following text in any way relevant or r...   \n",
      "\n",
      "  eval_completion      model  eval_completion_parsed  \n",
      "0             Yes  llama2:7b                       1  \n",
      "1             Yes  llama2:7b                       1  \n",
      "2              No  llama2:7b                       0  \n",
      "3             Yes  llama2:7b                       1  \n",
      "4             Yes  llama2:7b                       1  \n"
     ]
    }
   ],
   "source": [
    "def parse_annotator_label(annotator_label, include_borderline=False):\n",
    "\n",
    "    if annotator_label == \"1 - clear yes\":\n",
    "        return 1\n",
    "    elif annotator_label == \"0 - clear no\":\n",
    "        return 0\n",
    "    \n",
    "    if include_borderline:\n",
    "        if annotator_label == \"borderline\":\n",
    "            return 1\n",
    "\n",
    "    return 0\n",
    "\n",
    "print(\"Annotations columns:\", annotations_df.columns.tolist())\n",
    "print([repr(c) for c in annotations_df.columns])\n",
    "\n",
    "for templ in sorted(results_dict):\n",
    "    df = results_dict[templ]\n",
    "    print(df.head())\n",
    "\n",
    "    #print(\"Annotations columns:\", annotations_df.columns.tolist())\n",
    "\n",
    "    # Merge in (or create) the final_label column from annotations_df\n",
    "    # df = pd.merge(\n",
    "    #     df,\n",
    "    #     annotations_df[[\"id\", 'final_label']],\n",
    "    #     on=\"id\",\n",
    "    #     how=\"left\"               # preserve all rows; unmatched get NaN\n",
    "    # )\n",
    "    # 3) Now create the parsed numeric column exactly as before\n",
    "    df[\"final_label_parsed\"] = df['final_label'].apply(\n",
    "        parse_annotator_label, include_borderline=True\n",
    "    )\n",
    "    results_dict[templ] = df"
   ]
  },
  {
   "cell_type": "code",
   "execution_count": 92,
   "metadata": {},
   "outputs": [
    {
     "name": "stdout",
     "output_type": "stream",
     "text": [
      "templ-1\n",
      "              precision    recall  f1-score   support\n",
      "\n",
      "           0      0.964     0.395     0.560       940\n",
      "           1      0.075     0.767     0.136        60\n",
      "\n",
      "    accuracy                          0.417      1000\n",
      "   macro avg      0.519     0.581     0.348      1000\n",
      "weighted avg      0.910     0.417     0.535      1000\n",
      "\n",
      "templ-2\n",
      "              precision    recall  f1-score   support\n",
      "\n",
      "           0      0.922     0.201     0.330       940\n",
      "           1      0.055     0.733     0.103        60\n",
      "\n",
      "    accuracy                          0.233      1000\n",
      "   macro avg      0.489     0.467     0.217      1000\n",
      "weighted avg      0.870     0.233     0.316      1000\n",
      "\n",
      "templ-3\n",
      "              precision    recall  f1-score   support\n",
      "\n",
      "           0      0.949     0.927     0.938       940\n",
      "           1      0.159     0.217     0.183        60\n",
      "\n",
      "    accuracy                          0.884      1000\n",
      "   macro avg      0.554     0.572     0.560      1000\n",
      "weighted avg      0.901     0.884     0.892      1000\n",
      "\n",
      "templ-4\n",
      "              precision    recall  f1-score   support\n",
      "\n",
      "           0      0.956     0.370     0.534       940\n",
      "           1      0.069     0.733     0.126        60\n",
      "\n",
      "    accuracy                          0.392      1000\n",
      "   macro avg      0.513     0.552     0.330      1000\n",
      "weighted avg      0.903     0.392     0.509      1000\n",
      "\n",
      "templ-5\n",
      "              precision    recall  f1-score   support\n",
      "\n",
      "           0      0.938     0.227     0.365       940\n",
      "           1      0.060     0.767     0.110        60\n",
      "\n",
      "    accuracy                          0.259      1000\n",
      "   macro avg      0.499     0.497     0.238      1000\n",
      "weighted avg      0.886     0.259     0.350      1000\n",
      "\n"
     ]
    }
   ],
   "source": [
    "# print classification report for each template\n",
    "\n",
    "for templ in sorted(results_dict):\n",
    "    print(templ)\n",
    "    print(classification_report(results_dict[templ][\"final_label_parsed\"], results_dict[templ][\"eval_completion_parsed\"],digits=3))"
   ]
  },
  {
   "cell_type": "code",
   "execution_count": 93,
   "metadata": {},
   "outputs": [
    {
     "data": {
      "text/plain": [
       "id\n",
       "prism       55\n",
       "lmsys        2\n",
       "wildchat     2\n",
       "hhonline     1\n",
       "Name: count, dtype: int64"
      ]
     },
     "execution_count": 93,
     "metadata": {},
     "output_type": "execute_result"
    }
   ],
   "source": [
    "# count number of positive instances from each dataset (idenfied by first part of the id)\n",
    "results_dict[templ][results_dict[templ][\"final_label_parsed\"]==1][\"id\"].apply(lambda x: x.split(\"-\")[0]).value_counts()"
   ]
  },
  {
   "cell_type": "markdown",
   "metadata": {},
   "source": [
    "### Process filter results on full data"
   ]
  },
  {
   "cell_type": "code",
   "execution_count": 57,
   "metadata": {},
   "outputs": [
    {
     "ename": "FileNotFoundError",
     "evalue": "[Errno 2] No such file or directory: '../data/clean/all_clean_completions.csv'",
     "output_type": "error",
     "traceback": [
      "\u001b[0;31m---------------------------------------------------------------------------\u001b[0m",
      "\u001b[0;31mFileNotFoundError\u001b[0m                         Traceback (most recent call last)",
      "Cell \u001b[0;32mIn[57], line 2\u001b[0m\n\u001b[1;32m      1\u001b[0m \u001b[38;5;66;03m# load the all_clean results\u001b[39;00m\n\u001b[0;32m----> 2\u001b[0m all_clean_df \u001b[38;5;241m=\u001b[39m \u001b[43mpd\u001b[49m\u001b[38;5;241;43m.\u001b[39;49m\u001b[43mread_csv\u001b[49m\u001b[43m(\u001b[49m\u001b[38;5;124;43m\"\u001b[39;49m\u001b[38;5;124;43m../data/clean/all_clean_completions.csv\u001b[39;49m\u001b[38;5;124;43m\"\u001b[39;49m\u001b[43m)\u001b[49m\n\u001b[1;32m      4\u001b[0m \u001b[38;5;66;03m# merge n_duplicates onto the all_clean_df\u001b[39;00m\n\u001b[1;32m      5\u001b[0m all_clean_full \u001b[38;5;241m=\u001b[39m pd\u001b[38;5;241m.\u001b[39mread_csv(\u001b[38;5;124m\"\u001b[39m\u001b[38;5;124m../data/clean/all_clean_full.csv\u001b[39m\u001b[38;5;124m\"\u001b[39m)\n",
      "File \u001b[0;32m/Library/Frameworks/Python.framework/Versions/3.13/lib/python3.13/site-packages/pandas/io/parsers/readers.py:1026\u001b[0m, in \u001b[0;36mread_csv\u001b[0;34m(filepath_or_buffer, sep, delimiter, header, names, index_col, usecols, dtype, engine, converters, true_values, false_values, skipinitialspace, skiprows, skipfooter, nrows, na_values, keep_default_na, na_filter, verbose, skip_blank_lines, parse_dates, infer_datetime_format, keep_date_col, date_parser, date_format, dayfirst, cache_dates, iterator, chunksize, compression, thousands, decimal, lineterminator, quotechar, quoting, doublequote, escapechar, comment, encoding, encoding_errors, dialect, on_bad_lines, delim_whitespace, low_memory, memory_map, float_precision, storage_options, dtype_backend)\u001b[0m\n\u001b[1;32m   1013\u001b[0m kwds_defaults \u001b[38;5;241m=\u001b[39m _refine_defaults_read(\n\u001b[1;32m   1014\u001b[0m     dialect,\n\u001b[1;32m   1015\u001b[0m     delimiter,\n\u001b[0;32m   (...)\u001b[0m\n\u001b[1;32m   1022\u001b[0m     dtype_backend\u001b[38;5;241m=\u001b[39mdtype_backend,\n\u001b[1;32m   1023\u001b[0m )\n\u001b[1;32m   1024\u001b[0m kwds\u001b[38;5;241m.\u001b[39mupdate(kwds_defaults)\n\u001b[0;32m-> 1026\u001b[0m \u001b[38;5;28;01mreturn\u001b[39;00m \u001b[43m_read\u001b[49m\u001b[43m(\u001b[49m\u001b[43mfilepath_or_buffer\u001b[49m\u001b[43m,\u001b[49m\u001b[43m \u001b[49m\u001b[43mkwds\u001b[49m\u001b[43m)\u001b[49m\n",
      "File \u001b[0;32m/Library/Frameworks/Python.framework/Versions/3.13/lib/python3.13/site-packages/pandas/io/parsers/readers.py:620\u001b[0m, in \u001b[0;36m_read\u001b[0;34m(filepath_or_buffer, kwds)\u001b[0m\n\u001b[1;32m    617\u001b[0m _validate_names(kwds\u001b[38;5;241m.\u001b[39mget(\u001b[38;5;124m\"\u001b[39m\u001b[38;5;124mnames\u001b[39m\u001b[38;5;124m\"\u001b[39m, \u001b[38;5;28;01mNone\u001b[39;00m))\n\u001b[1;32m    619\u001b[0m \u001b[38;5;66;03m# Create the parser.\u001b[39;00m\n\u001b[0;32m--> 620\u001b[0m parser \u001b[38;5;241m=\u001b[39m \u001b[43mTextFileReader\u001b[49m\u001b[43m(\u001b[49m\u001b[43mfilepath_or_buffer\u001b[49m\u001b[43m,\u001b[49m\u001b[43m \u001b[49m\u001b[38;5;241;43m*\u001b[39;49m\u001b[38;5;241;43m*\u001b[39;49m\u001b[43mkwds\u001b[49m\u001b[43m)\u001b[49m\n\u001b[1;32m    622\u001b[0m \u001b[38;5;28;01mif\u001b[39;00m chunksize \u001b[38;5;129;01mor\u001b[39;00m iterator:\n\u001b[1;32m    623\u001b[0m     \u001b[38;5;28;01mreturn\u001b[39;00m parser\n",
      "File \u001b[0;32m/Library/Frameworks/Python.framework/Versions/3.13/lib/python3.13/site-packages/pandas/io/parsers/readers.py:1620\u001b[0m, in \u001b[0;36mTextFileReader.__init__\u001b[0;34m(self, f, engine, **kwds)\u001b[0m\n\u001b[1;32m   1617\u001b[0m     \u001b[38;5;28mself\u001b[39m\u001b[38;5;241m.\u001b[39moptions[\u001b[38;5;124m\"\u001b[39m\u001b[38;5;124mhas_index_names\u001b[39m\u001b[38;5;124m\"\u001b[39m] \u001b[38;5;241m=\u001b[39m kwds[\u001b[38;5;124m\"\u001b[39m\u001b[38;5;124mhas_index_names\u001b[39m\u001b[38;5;124m\"\u001b[39m]\n\u001b[1;32m   1619\u001b[0m \u001b[38;5;28mself\u001b[39m\u001b[38;5;241m.\u001b[39mhandles: IOHandles \u001b[38;5;241m|\u001b[39m \u001b[38;5;28;01mNone\u001b[39;00m \u001b[38;5;241m=\u001b[39m \u001b[38;5;28;01mNone\u001b[39;00m\n\u001b[0;32m-> 1620\u001b[0m \u001b[38;5;28mself\u001b[39m\u001b[38;5;241m.\u001b[39m_engine \u001b[38;5;241m=\u001b[39m \u001b[38;5;28;43mself\u001b[39;49m\u001b[38;5;241;43m.\u001b[39;49m\u001b[43m_make_engine\u001b[49m\u001b[43m(\u001b[49m\u001b[43mf\u001b[49m\u001b[43m,\u001b[49m\u001b[43m \u001b[49m\u001b[38;5;28;43mself\u001b[39;49m\u001b[38;5;241;43m.\u001b[39;49m\u001b[43mengine\u001b[49m\u001b[43m)\u001b[49m\n",
      "File \u001b[0;32m/Library/Frameworks/Python.framework/Versions/3.13/lib/python3.13/site-packages/pandas/io/parsers/readers.py:1880\u001b[0m, in \u001b[0;36mTextFileReader._make_engine\u001b[0;34m(self, f, engine)\u001b[0m\n\u001b[1;32m   1878\u001b[0m     \u001b[38;5;28;01mif\u001b[39;00m \u001b[38;5;124m\"\u001b[39m\u001b[38;5;124mb\u001b[39m\u001b[38;5;124m\"\u001b[39m \u001b[38;5;129;01mnot\u001b[39;00m \u001b[38;5;129;01min\u001b[39;00m mode:\n\u001b[1;32m   1879\u001b[0m         mode \u001b[38;5;241m+\u001b[39m\u001b[38;5;241m=\u001b[39m \u001b[38;5;124m\"\u001b[39m\u001b[38;5;124mb\u001b[39m\u001b[38;5;124m\"\u001b[39m\n\u001b[0;32m-> 1880\u001b[0m \u001b[38;5;28mself\u001b[39m\u001b[38;5;241m.\u001b[39mhandles \u001b[38;5;241m=\u001b[39m \u001b[43mget_handle\u001b[49m\u001b[43m(\u001b[49m\n\u001b[1;32m   1881\u001b[0m \u001b[43m    \u001b[49m\u001b[43mf\u001b[49m\u001b[43m,\u001b[49m\n\u001b[1;32m   1882\u001b[0m \u001b[43m    \u001b[49m\u001b[43mmode\u001b[49m\u001b[43m,\u001b[49m\n\u001b[1;32m   1883\u001b[0m \u001b[43m    \u001b[49m\u001b[43mencoding\u001b[49m\u001b[38;5;241;43m=\u001b[39;49m\u001b[38;5;28;43mself\u001b[39;49m\u001b[38;5;241;43m.\u001b[39;49m\u001b[43moptions\u001b[49m\u001b[38;5;241;43m.\u001b[39;49m\u001b[43mget\u001b[49m\u001b[43m(\u001b[49m\u001b[38;5;124;43m\"\u001b[39;49m\u001b[38;5;124;43mencoding\u001b[39;49m\u001b[38;5;124;43m\"\u001b[39;49m\u001b[43m,\u001b[49m\u001b[43m \u001b[49m\u001b[38;5;28;43;01mNone\u001b[39;49;00m\u001b[43m)\u001b[49m\u001b[43m,\u001b[49m\n\u001b[1;32m   1884\u001b[0m \u001b[43m    \u001b[49m\u001b[43mcompression\u001b[49m\u001b[38;5;241;43m=\u001b[39;49m\u001b[38;5;28;43mself\u001b[39;49m\u001b[38;5;241;43m.\u001b[39;49m\u001b[43moptions\u001b[49m\u001b[38;5;241;43m.\u001b[39;49m\u001b[43mget\u001b[49m\u001b[43m(\u001b[49m\u001b[38;5;124;43m\"\u001b[39;49m\u001b[38;5;124;43mcompression\u001b[39;49m\u001b[38;5;124;43m\"\u001b[39;49m\u001b[43m,\u001b[49m\u001b[43m \u001b[49m\u001b[38;5;28;43;01mNone\u001b[39;49;00m\u001b[43m)\u001b[49m\u001b[43m,\u001b[49m\n\u001b[1;32m   1885\u001b[0m \u001b[43m    \u001b[49m\u001b[43mmemory_map\u001b[49m\u001b[38;5;241;43m=\u001b[39;49m\u001b[38;5;28;43mself\u001b[39;49m\u001b[38;5;241;43m.\u001b[39;49m\u001b[43moptions\u001b[49m\u001b[38;5;241;43m.\u001b[39;49m\u001b[43mget\u001b[49m\u001b[43m(\u001b[49m\u001b[38;5;124;43m\"\u001b[39;49m\u001b[38;5;124;43mmemory_map\u001b[39;49m\u001b[38;5;124;43m\"\u001b[39;49m\u001b[43m,\u001b[49m\u001b[43m \u001b[49m\u001b[38;5;28;43;01mFalse\u001b[39;49;00m\u001b[43m)\u001b[49m\u001b[43m,\u001b[49m\n\u001b[1;32m   1886\u001b[0m \u001b[43m    \u001b[49m\u001b[43mis_text\u001b[49m\u001b[38;5;241;43m=\u001b[39;49m\u001b[43mis_text\u001b[49m\u001b[43m,\u001b[49m\n\u001b[1;32m   1887\u001b[0m \u001b[43m    \u001b[49m\u001b[43merrors\u001b[49m\u001b[38;5;241;43m=\u001b[39;49m\u001b[38;5;28;43mself\u001b[39;49m\u001b[38;5;241;43m.\u001b[39;49m\u001b[43moptions\u001b[49m\u001b[38;5;241;43m.\u001b[39;49m\u001b[43mget\u001b[49m\u001b[43m(\u001b[49m\u001b[38;5;124;43m\"\u001b[39;49m\u001b[38;5;124;43mencoding_errors\u001b[39;49m\u001b[38;5;124;43m\"\u001b[39;49m\u001b[43m,\u001b[49m\u001b[43m \u001b[49m\u001b[38;5;124;43m\"\u001b[39;49m\u001b[38;5;124;43mstrict\u001b[39;49m\u001b[38;5;124;43m\"\u001b[39;49m\u001b[43m)\u001b[49m\u001b[43m,\u001b[49m\n\u001b[1;32m   1888\u001b[0m \u001b[43m    \u001b[49m\u001b[43mstorage_options\u001b[49m\u001b[38;5;241;43m=\u001b[39;49m\u001b[38;5;28;43mself\u001b[39;49m\u001b[38;5;241;43m.\u001b[39;49m\u001b[43moptions\u001b[49m\u001b[38;5;241;43m.\u001b[39;49m\u001b[43mget\u001b[49m\u001b[43m(\u001b[49m\u001b[38;5;124;43m\"\u001b[39;49m\u001b[38;5;124;43mstorage_options\u001b[39;49m\u001b[38;5;124;43m\"\u001b[39;49m\u001b[43m,\u001b[49m\u001b[43m \u001b[49m\u001b[38;5;28;43;01mNone\u001b[39;49;00m\u001b[43m)\u001b[49m\u001b[43m,\u001b[49m\n\u001b[1;32m   1889\u001b[0m \u001b[43m\u001b[49m\u001b[43m)\u001b[49m\n\u001b[1;32m   1890\u001b[0m \u001b[38;5;28;01massert\u001b[39;00m \u001b[38;5;28mself\u001b[39m\u001b[38;5;241m.\u001b[39mhandles \u001b[38;5;129;01mis\u001b[39;00m \u001b[38;5;129;01mnot\u001b[39;00m \u001b[38;5;28;01mNone\u001b[39;00m\n\u001b[1;32m   1891\u001b[0m f \u001b[38;5;241m=\u001b[39m \u001b[38;5;28mself\u001b[39m\u001b[38;5;241m.\u001b[39mhandles\u001b[38;5;241m.\u001b[39mhandle\n",
      "File \u001b[0;32m/Library/Frameworks/Python.framework/Versions/3.13/lib/python3.13/site-packages/pandas/io/common.py:873\u001b[0m, in \u001b[0;36mget_handle\u001b[0;34m(path_or_buf, mode, encoding, compression, memory_map, is_text, errors, storage_options)\u001b[0m\n\u001b[1;32m    868\u001b[0m \u001b[38;5;28;01melif\u001b[39;00m \u001b[38;5;28misinstance\u001b[39m(handle, \u001b[38;5;28mstr\u001b[39m):\n\u001b[1;32m    869\u001b[0m     \u001b[38;5;66;03m# Check whether the filename is to be opened in binary mode.\u001b[39;00m\n\u001b[1;32m    870\u001b[0m     \u001b[38;5;66;03m# Binary mode does not support 'encoding' and 'newline'.\u001b[39;00m\n\u001b[1;32m    871\u001b[0m     \u001b[38;5;28;01mif\u001b[39;00m ioargs\u001b[38;5;241m.\u001b[39mencoding \u001b[38;5;129;01mand\u001b[39;00m \u001b[38;5;124m\"\u001b[39m\u001b[38;5;124mb\u001b[39m\u001b[38;5;124m\"\u001b[39m \u001b[38;5;129;01mnot\u001b[39;00m \u001b[38;5;129;01min\u001b[39;00m ioargs\u001b[38;5;241m.\u001b[39mmode:\n\u001b[1;32m    872\u001b[0m         \u001b[38;5;66;03m# Encoding\u001b[39;00m\n\u001b[0;32m--> 873\u001b[0m         handle \u001b[38;5;241m=\u001b[39m \u001b[38;5;28;43mopen\u001b[39;49m\u001b[43m(\u001b[49m\n\u001b[1;32m    874\u001b[0m \u001b[43m            \u001b[49m\u001b[43mhandle\u001b[49m\u001b[43m,\u001b[49m\n\u001b[1;32m    875\u001b[0m \u001b[43m            \u001b[49m\u001b[43mioargs\u001b[49m\u001b[38;5;241;43m.\u001b[39;49m\u001b[43mmode\u001b[49m\u001b[43m,\u001b[49m\n\u001b[1;32m    876\u001b[0m \u001b[43m            \u001b[49m\u001b[43mencoding\u001b[49m\u001b[38;5;241;43m=\u001b[39;49m\u001b[43mioargs\u001b[49m\u001b[38;5;241;43m.\u001b[39;49m\u001b[43mencoding\u001b[49m\u001b[43m,\u001b[49m\n\u001b[1;32m    877\u001b[0m \u001b[43m            \u001b[49m\u001b[43merrors\u001b[49m\u001b[38;5;241;43m=\u001b[39;49m\u001b[43merrors\u001b[49m\u001b[43m,\u001b[49m\n\u001b[1;32m    878\u001b[0m \u001b[43m            \u001b[49m\u001b[43mnewline\u001b[49m\u001b[38;5;241;43m=\u001b[39;49m\u001b[38;5;124;43m\"\u001b[39;49m\u001b[38;5;124;43m\"\u001b[39;49m\u001b[43m,\u001b[49m\n\u001b[1;32m    879\u001b[0m \u001b[43m        \u001b[49m\u001b[43m)\u001b[49m\n\u001b[1;32m    880\u001b[0m     \u001b[38;5;28;01melse\u001b[39;00m:\n\u001b[1;32m    881\u001b[0m         \u001b[38;5;66;03m# Binary mode\u001b[39;00m\n\u001b[1;32m    882\u001b[0m         handle \u001b[38;5;241m=\u001b[39m \u001b[38;5;28mopen\u001b[39m(handle, ioargs\u001b[38;5;241m.\u001b[39mmode)\n",
      "\u001b[0;31mFileNotFoundError\u001b[0m: [Errno 2] No such file or directory: '../data/clean/all_clean_completions.csv'"
     ]
    }
   ],
   "source": [
    "# load the all_clean results\n",
    "all_clean_df = pd.read_csv(\"../data/clean/all_clean_completions.csv\")\n",
    "\n",
    "# merge n_duplicates onto the all_clean_df\n",
    "all_clean_full = pd.read_csv(\"../data/clean/all_clean_full.csv\")\n",
    "all_clean_df = pd.merge(all_clean_df, all_clean_full[[\"id\",\"n_duplicates\"]], on=\"id\")\n",
    "\n",
    "# turn eval_completion column to string\n",
    "all_clean_df[\"eval_completion\"] = all_clean_df[\"eval_completion\"].astype(str)\n",
    "\n",
    "all_clean_df[\"eval_completion_parsed\"] = all_clean_df[\"eval_completion\"].apply(parse_completion)\n",
    "\n",
    "# select only rows where eval_completion_parsed is 1\n",
    "all_clean_df = all_clean_df[all_clean_df[\"eval_completion_parsed\"]==1]\n",
    "\n",
    "# export the filtered results\n",
    "all_clean_df[[\"id\", \"user_prompt\", \"n_duplicates\"]].to_csv(\"../data/filtered/all_clean_filtered.csv\", index=False)\n",
    "display(all_clean_df)"
   ]
  },
  {
   "cell_type": "code",
   "execution_count": 27,
   "metadata": {},
   "outputs": [
    {
     "data": {
      "text/plain": [
       "id\n",
       "wildchat    13634\n",
       "lmsys       12537\n",
       "prism        3039\n",
       "sharegpt     2108\n",
       "hhonline      816\n",
       "Name: count, dtype: int64"
      ]
     },
     "execution_count": 27,
     "metadata": {},
     "output_type": "execute_result"
    }
   ],
   "source": [
    "# count number of positive instances from each dataset (idenfied by first part of the id)\n",
    "all_clean_df[\"id\"].apply(lambda x: x.split(\"-\")[0]).value_counts()"
   ]
  }
 ],
 "metadata": {
  "kernelspec": {
   "display_name": "Python 3",
   "language": "python",
   "name": "python3"
  },
  "language_info": {
   "codemirror_mode": {
    "name": "ipython",
    "version": 3
   },
   "file_extension": ".py",
   "mimetype": "text/x-python",
   "name": "python",
   "nbconvert_exporter": "python",
   "pygments_lexer": "ipython3",
   "version": "3.13.0"
  }
 },
 "nbformat": 4,
 "nbformat_minor": 2
}

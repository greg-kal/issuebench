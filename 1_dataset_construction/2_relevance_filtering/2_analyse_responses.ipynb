{
 "cells": [
  {
   "cell_type": "code",
   "execution_count": 1,
   "metadata": {},
   "outputs": [],
   "source": [
    "import pandas as pd\n",
    "import os\n",
    "\n",
    "from sklearn.metrics import classification_report\n"
   ]
  },
  {
   "cell_type": "markdown",
   "metadata": {},
   "source": [
    "### Analyse filter performance on annotated data"
   ]
  },
  {
   "cell_type": "code",
   "execution_count": 2,
   "metadata": {},
   "outputs": [
    {
     "name": "stdout",
     "output_type": "stream",
     "text": [
      "/Users/greg/Desktop/newFolderLLM/issuebench/1_dataset_construction/2_relevance_filtering\n"
     ]
    }
   ],
   "source": [
    "import os\n",
    "print(os.getcwd())\n"
   ]
  },
  {
   "cell_type": "code",
   "execution_count": 3,
   "metadata": {},
   "outputs": [],
   "source": [
    "annotations_df = pd.read_csv('/Users/greg/Desktop/newFolderLLM/issuebench/final_labeled_GK_CH/final_GK_CH_annotations.csv')"
   ]
  },
  {
   "cell_type": "code",
   "execution_count": 4,
   "metadata": {},
   "outputs": [],
   "source": [
    "results_dict = {}\n",
    "\n",
    "for file in os.listdir(\"/Users/greg/Desktop/newFolderLLM/issuebench/1_dataset_construction/2_relevance_filtering/\" \\\n",
    "\"eval_prompts/responsesKalmanLlama\"):\n",
    "    if \"completions\" in file:\n",
    "        results_dict[file.split(\"_\")[-1][:-4]] = pd.read_csv(\"/Users/greg/Desktop/newFolderLLM/issuebench/1_dataset_construction/2_relevance_filtering/\" \\\n",
    "\"eval_prompts/responsesKalmanLlama/\" + file)"
   ]
  },
  {
   "cell_type": "code",
   "execution_count": 5,
   "metadata": {},
   "outputs": [
    {
     "name": "stdout",
     "output_type": "stream",
     "text": [
      "completions\n",
      "eval_completion_parsed\n",
      " 0    6876\n",
      " 1    3117\n",
      "-1       7\n",
      "Name: count, dtype: int64\n",
      "\n",
      "llama2.x-7b-templ-1\n",
      "eval_completion_parsed\n",
      "1    615\n",
      "0    385\n",
      "Name: count, dtype: int64\n",
      "\n",
      "llama2.x-7b-templ-2\n",
      "eval_completion_parsed\n",
      "1    795\n",
      "0    205\n",
      "Name: count, dtype: int64\n",
      "\n",
      "llama2.x-7b-templ-3\n",
      "eval_completion_parsed\n",
      "0    918\n",
      "1     82\n",
      "Name: count, dtype: int64\n",
      "\n",
      "llama2.x-7b-templ-4\n",
      "eval_completion_parsed\n",
      "1    636\n",
      "0    364\n",
      "Name: count, dtype: int64\n",
      "\n",
      "llama2.x-7b-templ-5\n",
      "eval_completion_parsed\n",
      "1    773\n",
      "0    227\n",
      "Name: count, dtype: int64\n",
      "\n",
      "llama3.1-8b-templ-1\n",
      "eval_completion_parsed\n",
      " 0    991\n",
      "-1      6\n",
      " 1      3\n",
      "Name: count, dtype: int64\n",
      "\n",
      "llama3.1-8b-templ-2\n",
      "eval_completion_parsed\n",
      "0    927\n",
      "1     73\n",
      "Name: count, dtype: int64\n",
      "\n",
      "llama3.1-8b-templ-3\n",
      "eval_completion_parsed\n",
      "0    996\n",
      "1      4\n",
      "Name: count, dtype: int64\n",
      "\n",
      "llama3.1-8b-templ-4\n",
      "eval_completion_parsed\n",
      " 0    981\n",
      " 1     18\n",
      "-1      1\n",
      "Name: count, dtype: int64\n",
      "\n",
      "llama3.1-8b-templ-5\n",
      "eval_completion_parsed\n",
      "0    882\n",
      "1    118\n",
      "Name: count, dtype: int64\n",
      "\n"
     ]
    }
   ],
   "source": [
    "# parse the results\n",
    "\n",
    "def parse_completion(completion):\n",
    "    if \"yes\" in completion.lower():\n",
    "        return 1\n",
    "    elif \"no\" in completion.lower():\n",
    "        return 0\n",
    "    else:\n",
    "        return -1\n",
    "    \n",
    "for templ in sorted(results_dict):\n",
    "    results_dict[templ][\"eval_completion_parsed\"] = results_dict[templ][\"eval_completion\"].apply(parse_completion)\n",
    "    print(templ)\n",
    "    print(results_dict[templ][\"eval_completion_parsed\"].value_counts())\n",
    "    print()\n"
   ]
  },
  {
   "cell_type": "code",
   "execution_count": 1,
   "metadata": {},
   "outputs": [
    {
     "ename": "NameError",
     "evalue": "name 'annotations_df' is not defined",
     "output_type": "error",
     "traceback": [
      "\u001b[0;31m---------------------------------------------------------------------------\u001b[0m",
      "\u001b[0;31mNameError\u001b[0m                                 Traceback (most recent call last)",
      "Cell \u001b[0;32mIn[1], line 14\u001b[0m\n\u001b[1;32m     10\u001b[0m             \u001b[38;5;28;01mreturn\u001b[39;00m \u001b[38;5;241m1\u001b[39m\n\u001b[1;32m     12\u001b[0m     \u001b[38;5;28;01mreturn\u001b[39;00m \u001b[38;5;241m0\u001b[39m\n\u001b[0;32m---> 14\u001b[0m \u001b[38;5;28mprint\u001b[39m(\u001b[38;5;124m\"\u001b[39m\u001b[38;5;124mAnnotations columns:\u001b[39m\u001b[38;5;124m\"\u001b[39m, annotations_df\u001b[38;5;241m.\u001b[39mcolumns\u001b[38;5;241m.\u001b[39mtolist())\n\u001b[1;32m     15\u001b[0m \u001b[38;5;28mprint\u001b[39m([\u001b[38;5;28mrepr\u001b[39m(c) \u001b[38;5;28;01mfor\u001b[39;00m c \u001b[38;5;129;01min\u001b[39;00m annotations_df\u001b[38;5;241m.\u001b[39mcolumns])\n\u001b[1;32m     17\u001b[0m \u001b[38;5;28;01mfor\u001b[39;00m templ \u001b[38;5;129;01min\u001b[39;00m \u001b[38;5;28msorted\u001b[39m(results_dict):\n",
      "\u001b[0;31mNameError\u001b[0m: name 'annotations_df' is not defined"
     ]
    }
   ],
   "source": [
    "def parse_annotator_label(annotator_label, include_borderline=False):\n",
    "\n",
    "    if annotator_label == \"1 - clear yes\":\n",
    "        return 1\n",
    "    elif annotator_label == \"0 - clear no\":\n",
    "        return 0\n",
    "    \n",
    "    if include_borderline:\n",
    "        if annotator_label == \"borderline\":\n",
    "            return 1\n",
    "\n",
    "    return 0\n",
    "\n",
    "print(\"Annotations columns:\", annotations_df.columns.tolist())\n",
    "print([repr(c) for c in annotations_df.columns])\n",
    "\n",
    "for templ in sorted(results_dict):\n",
    "    df = results_dict[templ]\n",
    "    print(df.head())\n",
    "\n",
    "    #print(\"Annotations columns:\", annotations_df.columns.tolist())\n",
    "\n",
    "    # Merge in (or create) the final_label column from annotations_df\n",
    "    # df = pd.merge(\n",
    "    #     df,\n",
    "    #     annotations_df[[\"id\", 'final_label']],\n",
    "    #     on=\"id\",\n",
    "    #     how=\"left\"               # preserve all rows; unmatched get NaN\n",
    "    # )\n",
    "    # 3) Now create the parsed numeric column exactly as before\n",
    "    df[\"final_label_parsed\"] = df['final_label'].apply(\n",
    "        parse_annotator_label, include_borderline=True\n",
    "    )\n",
    "    results_dict[templ] = df"
   ]
  },
  {
   "cell_type": "code",
   "execution_count": 7,
   "metadata": {},
   "outputs": [
    {
     "name": "stdout",
     "output_type": "stream",
     "text": [
      "completions\n",
      "              precision    recall  f1-score   support\n",
      "\n",
      "          -1      0.000     0.000     0.000         0\n",
      "           0      0.945     0.691     0.798      9400\n",
      "           1      0.070     0.365     0.118       600\n",
      "\n",
      "    accuracy                          0.671     10000\n",
      "   macro avg      0.338     0.352     0.305     10000\n",
      "weighted avg      0.892     0.671     0.757     10000\n",
      "\n",
      "llama2.x-7b-templ-1\n",
      "              precision    recall  f1-score   support\n",
      "\n",
      "           0      0.964     0.395     0.560       940\n",
      "           1      0.075     0.767     0.136        60\n",
      "\n",
      "    accuracy                          0.417      1000\n",
      "   macro avg      0.519     0.581     0.348      1000\n",
      "weighted avg      0.910     0.417     0.535      1000\n",
      "\n",
      "llama2.x-7b-templ-2\n",
      "              precision    recall  f1-score   support\n",
      "\n",
      "           0      0.922     0.201     0.330       940\n",
      "           1      0.055     0.733     0.103        60\n",
      "\n",
      "    accuracy                          0.233      1000\n",
      "   macro avg      0.489     0.467     0.217      1000\n",
      "weighted avg      0.870     0.233     0.316      1000\n",
      "\n",
      "llama2.x-7b-templ-3\n",
      "              precision    recall  f1-score   support\n",
      "\n",
      "           0      0.949     0.927     0.938       940\n",
      "           1      0.159     0.217     0.183        60\n",
      "\n",
      "    accuracy                          0.884      1000\n",
      "   macro avg      0.554     0.572     0.560      1000\n",
      "weighted avg      0.901     0.884     0.892      1000\n",
      "\n",
      "llama2.x-7b-templ-4\n",
      "              precision    recall  f1-score   support\n",
      "\n",
      "           0      0.956     0.370     0.534       940\n",
      "           1      0.069     0.733     0.126        60\n",
      "\n",
      "    accuracy                          0.392      1000\n",
      "   macro avg      0.513     0.552     0.330      1000\n",
      "weighted avg      0.903     0.392     0.509      1000\n",
      "\n",
      "llama2.x-7b-templ-5\n",
      "              precision    recall  f1-score   support\n",
      "\n",
      "           0      0.938     0.227     0.365       940\n",
      "           1      0.060     0.767     0.110        60\n",
      "\n",
      "    accuracy                          0.259      1000\n",
      "   macro avg      0.499     0.497     0.238      1000\n",
      "weighted avg      0.886     0.259     0.350      1000\n",
      "\n",
      "llama3.1-8b-templ-1\n",
      "              precision    recall  f1-score   support\n",
      "\n",
      "          -1      0.000     0.000     0.000         0\n",
      "           0      0.942     0.994     0.967       940\n",
      "           1      1.000     0.050     0.095        60\n",
      "\n",
      "    accuracy                          0.937      1000\n",
      "   macro avg      0.647     0.348     0.354      1000\n",
      "weighted avg      0.946     0.937     0.915      1000\n",
      "\n",
      "llama3.1-8b-templ-2\n",
      "              precision    recall  f1-score   support\n",
      "\n",
      "           0      0.944     0.931     0.937       940\n",
      "           1      0.110     0.133     0.120        60\n",
      "\n",
      "    accuracy                          0.883      1000\n",
      "   macro avg      0.527     0.532     0.529      1000\n",
      "weighted avg      0.894     0.883     0.888      1000\n",
      "\n",
      "llama3.1-8b-templ-3\n",
      "              precision    recall  f1-score   support\n",
      "\n",
      "           0      0.941     0.997     0.968       940\n",
      "           1      0.250     0.017     0.031        60\n",
      "\n",
      "    accuracy                          0.938      1000\n",
      "   macro avg      0.595     0.507     0.500      1000\n",
      "weighted avg      0.899     0.938     0.912      1000\n",
      "\n",
      "llama3.1-8b-templ-4\n",
      "              precision    recall  f1-score   support\n",
      "\n",
      "          -1      0.000     0.000     0.000         0\n",
      "           0      0.943     0.984     0.963       940\n",
      "           1      0.222     0.067     0.103        60\n",
      "\n",
      "    accuracy                          0.929      1000\n",
      "   macro avg      0.388     0.350     0.355      1000\n",
      "weighted avg      0.900     0.929     0.911      1000\n",
      "\n",
      "llama3.1-8b-templ-5\n",
      "              precision    recall  f1-score   support\n",
      "\n",
      "           0      0.943     0.885     0.913       940\n",
      "           1      0.085     0.167     0.112        60\n",
      "\n",
      "    accuracy                          0.842      1000\n",
      "   macro avg      0.514     0.526     0.513      1000\n",
      "weighted avg      0.892     0.842     0.865      1000\n",
      "\n"
     ]
    },
    {
     "name": "stderr",
     "output_type": "stream",
     "text": [
      "/Library/Frameworks/Python.framework/Versions/3.13/lib/python3.13/site-packages/sklearn/metrics/_classification.py:1531: UndefinedMetricWarning: Recall is ill-defined and being set to 0.0 in labels with no true samples. Use `zero_division` parameter to control this behavior.\n",
      "  _warn_prf(average, modifier, f\"{metric.capitalize()} is\", len(result))\n",
      "/Library/Frameworks/Python.framework/Versions/3.13/lib/python3.13/site-packages/sklearn/metrics/_classification.py:1531: UndefinedMetricWarning: Recall is ill-defined and being set to 0.0 in labels with no true samples. Use `zero_division` parameter to control this behavior.\n",
      "  _warn_prf(average, modifier, f\"{metric.capitalize()} is\", len(result))\n",
      "/Library/Frameworks/Python.framework/Versions/3.13/lib/python3.13/site-packages/sklearn/metrics/_classification.py:1531: UndefinedMetricWarning: Recall is ill-defined and being set to 0.0 in labels with no true samples. Use `zero_division` parameter to control this behavior.\n",
      "  _warn_prf(average, modifier, f\"{metric.capitalize()} is\", len(result))\n",
      "/Library/Frameworks/Python.framework/Versions/3.13/lib/python3.13/site-packages/sklearn/metrics/_classification.py:1531: UndefinedMetricWarning: Recall is ill-defined and being set to 0.0 in labels with no true samples. Use `zero_division` parameter to control this behavior.\n",
      "  _warn_prf(average, modifier, f\"{metric.capitalize()} is\", len(result))\n",
      "/Library/Frameworks/Python.framework/Versions/3.13/lib/python3.13/site-packages/sklearn/metrics/_classification.py:1531: UndefinedMetricWarning: Recall is ill-defined and being set to 0.0 in labels with no true samples. Use `zero_division` parameter to control this behavior.\n",
      "  _warn_prf(average, modifier, f\"{metric.capitalize()} is\", len(result))\n",
      "/Library/Frameworks/Python.framework/Versions/3.13/lib/python3.13/site-packages/sklearn/metrics/_classification.py:1531: UndefinedMetricWarning: Recall is ill-defined and being set to 0.0 in labels with no true samples. Use `zero_division` parameter to control this behavior.\n",
      "  _warn_prf(average, modifier, f\"{metric.capitalize()} is\", len(result))\n",
      "/Library/Frameworks/Python.framework/Versions/3.13/lib/python3.13/site-packages/sklearn/metrics/_classification.py:1531: UndefinedMetricWarning: Recall is ill-defined and being set to 0.0 in labels with no true samples. Use `zero_division` parameter to control this behavior.\n",
      "  _warn_prf(average, modifier, f\"{metric.capitalize()} is\", len(result))\n",
      "/Library/Frameworks/Python.framework/Versions/3.13/lib/python3.13/site-packages/sklearn/metrics/_classification.py:1531: UndefinedMetricWarning: Recall is ill-defined and being set to 0.0 in labels with no true samples. Use `zero_division` parameter to control this behavior.\n",
      "  _warn_prf(average, modifier, f\"{metric.capitalize()} is\", len(result))\n",
      "/Library/Frameworks/Python.framework/Versions/3.13/lib/python3.13/site-packages/sklearn/metrics/_classification.py:1531: UndefinedMetricWarning: Recall is ill-defined and being set to 0.0 in labels with no true samples. Use `zero_division` parameter to control this behavior.\n",
      "  _warn_prf(average, modifier, f\"{metric.capitalize()} is\", len(result))\n"
     ]
    }
   ],
   "source": [
    "# print classification report for each template\n",
    "\n",
    "for templ in sorted(results_dict):\n",
    "    print(templ)\n",
    "    print(classification_report(results_dict[templ][\"final_label_parsed\"], results_dict[templ][\"eval_completion_parsed\"],digits=3))"
   ]
  },
  {
   "cell_type": "code",
   "execution_count": 8,
   "metadata": {},
   "outputs": [
    {
     "data": {
      "text/plain": [
       "id\n",
       "prism       55\n",
       "lmsys        2\n",
       "wildchat     2\n",
       "hhonline     1\n",
       "Name: count, dtype: int64"
      ]
     },
     "execution_count": 8,
     "metadata": {},
     "output_type": "execute_result"
    }
   ],
   "source": [
    "# count number of positive instances from each dataset (idenfied by first part of the id)\n",
    "results_dict[templ][results_dict[templ][\"final_label_parsed\"]==1][\"id\"].apply(lambda x: x.split(\"-\")[0]).value_counts()"
   ]
  },
  {
   "cell_type": "markdown",
   "metadata": {},
   "source": [
    "### Process filter results on full data"
   ]
  },
  {
   "cell_type": "code",
   "execution_count": 1,
   "metadata": {},
   "outputs": [
    {
     "name": "stdout",
     "output_type": "stream",
     "text": [
      "/data/gregIB/issuebench/1_dataset_construction/2_relevance_filtering\n"
     ]
    }
   ],
   "source": [
    "import os\n",
    "print(os.getcwd())"
   ]
  },
  {
   "cell_type": "code",
   "execution_count": 3,
   "metadata": {},
   "outputs": [
    {
     "ename": "NameError",
     "evalue": "name 'pd' is not defined",
     "output_type": "error",
     "traceback": [
      "\u001b[31m---------------------------------------------------------------------------\u001b[39m",
      "\u001b[31mNameError\u001b[39m                                 Traceback (most recent call last)",
      "\u001b[36mCell\u001b[39m\u001b[36m \u001b[39m\u001b[32mIn[3]\u001b[39m\u001b[32m, line 9\u001b[39m\n\u001b[32m      6\u001b[39m pattern = \u001b[33m\"\u001b[39m\u001b[33m/data/gregIB/issuebench/1_dataset_construction/2_relevance_filtering/eval_prompts/responsesKalmanDeepSeek\u001b[39m\u001b[33m\"\u001b[39m\n\u001b[32m      8\u001b[39m files = \u001b[38;5;28msorted\u001b[39m(glob(pattern))\n\u001b[32m----> \u001b[39m\u001b[32m9\u001b[39m df_all = \u001b[43mpd\u001b[49m.concat([pd.read_csv(f) \u001b[38;5;28;01mfor\u001b[39;00m f \u001b[38;5;129;01min\u001b[39;00m files], ignore_index=\u001b[38;5;28;01mTrue\u001b[39;00m)\n\u001b[32m     10\u001b[39m \u001b[33;03m\"\"\" outPath = \"/Users/greg/Desktop/newFolderLLM/issuebench/1_dataset_construction/2_relevance_filtering/eval_prompts\" \\\u001b[39;00m\n\u001b[32m     11\u001b[39m \u001b[33;03m\"/responsesKalmanLlama/all_clean_completions.csv\" \"\"\"\u001b[39;00m\n\u001b[32m     13\u001b[39m outPath = \u001b[33m\"\u001b[39m\u001b[33m/data/gregIB/issuebench/1_dataset_construction/2_relevance_filtering/eval_prompts/\u001b[39m\u001b[33m\"\u001b[39m \\\n\u001b[32m     14\u001b[39m \u001b[33m\"\u001b[39m\u001b[33mresponsesKalmanDeepSeek/all_clean_completions\u001b[39m\u001b[33m\"\u001b[39m\n",
      "\u001b[31mNameError\u001b[39m: name 'pd' is not defined"
     ]
    }
   ],
   "source": [
    "from glob import glob\n",
    "# load the all_clean results\n",
    "\n",
    "#attern = \"/Users/greg/Desktop/newFolderLLM/issuebench/1_dataset_construction/2_relevance_filtering/eval_prompts/\" \\\n",
    "\"responsesKalmanLlama/relevance_190725_completions_llama*.csv\"\n",
    "pattern = \"/data/gregIB/issuebench/1_dataset_construction/2_relevance_filtering/eval_prompts/responsesKalmanDeepSeek\"\n",
    "\n",
    "files = sorted(glob(pattern))\n",
    "df_all = pd.concat([pd.read_csv(f) for f in files], ignore_index=True)\n",
    "\"\"\" outPath = \"/Users/greg/Desktop/newFolderLLM/issuebench/1_dataset_construction/2_relevance_filtering/eval_prompts\" \\\n",
    "\"/responsesKalmanLlama/all_clean_completions.csv\" \"\"\"\n",
    "\n",
    "outPath = \"/data/gregIB/issuebench/1_dataset_construction/2_relevance_filtering/eval_prompts/\" \\\n",
    "\"responsesKalmanDeepSeek/all_clean_completions\"\n",
    "df_all.to_csv(outPath, index=False) \n"
   ]
  },
  {
   "cell_type": "code",
   "execution_count": null,
   "metadata": {},
   "outputs": [],
   "source": [
    "\n",
    "all_clean_df = pd.read_csv(\"/Users/greg/Desktop/newFolderLLM/issuebench/1_dataset_construction/2_relevance_filtering/eval_prompts/\" \\\n",
    "\"responsesKalmanLlama/all_clean_completions.csv\")\n",
    "\n",
    "#GK Note: this is what is wrong\n",
    "# merge n_duplicates onto the all_clean_df\n",
    "all_clean_full = pd.read_csv(\"/Users/greg/Desktop/newFolderLLM/issuebench/1_dataset_construction/1_preprocessing\" \\\n",
    "\"/clean/all_clean_with_prompts.csv\")\n",
    "all_clean_df = pd.merge(all_clean_df, all_clean_full[[\"id\",\"n_duplicates\"]], on=\"id\")\n",
    "\n",
    "# turn eval_completion column to string\n",
    "all_clean_df[\"eval_completion\"] = all_clean_df[\"eval_completion\"].astype(str)\n",
    "\n",
    "all_clean_df[\"eval_completion_parsed\"] = all_clean_df[\"eval_completion\"].apply(parse_completion)\n",
    "\n",
    "# select only rows where eval_completion_parsed is 1\n",
    "all_clean_df = all_clean_df[all_clean_df[\"eval_completion_parsed\"]==1]\n",
    "\n",
    "# export the filtered results\n",
    "all_clean_df[[\"id\", \"user_prompt\", \"n_duplicates\"]].to_csv(\"./data/filter_eval_Kalman/all_clean_filtered.csv\", index=False)\n",
    "display(all_clean_df)"
   ]
  },
  {
   "cell_type": "code",
   "execution_count": 10,
   "metadata": {},
   "outputs": [
    {
     "data": {
      "text/plain": [
       "id\n",
       "sharegpt    658\n",
       "prism       655\n",
       "hhonline    651\n",
       "lmsys       602\n",
       "wildchat    551\n",
       "Name: count, dtype: int64"
      ]
     },
     "execution_count": 10,
     "metadata": {},
     "output_type": "execute_result"
    }
   ],
   "source": [
    "# count number of positive instances from each dataset (idenfied by first part of the id)\n",
    "all_clean_df[\"id\"].apply(lambda x: x.split(\"-\")[0]).value_counts()"
   ]
  }
 ],
 "metadata": {
  "kernelspec": {
   "display_name": "base",
   "language": "python",
   "name": "python3"
  },
  "language_info": {
   "codemirror_mode": {
    "name": "ipython",
    "version": 3
   },
   "file_extension": ".py",
   "mimetype": "text/x-python",
   "name": "python",
   "nbconvert_exporter": "python",
   "pygments_lexer": "ipython3",
   "version": "3.12.7"
  }
 },
 "nbformat": 4,
 "nbformat_minor": 2
}
